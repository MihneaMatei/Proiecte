{
 "cells": [
  {
   "cell_type": "code",
   "execution_count": 1,
   "id": "29d643de",
   "metadata": {},
   "outputs": [
    {
     "name": "stdout",
     "output_type": "stream",
     "text": [
      "Valid PNG signature\n"
     ]
    }
   ],
   "source": [
    "import sys, struct\n",
    "import numpy as np\n",
    "filename = \"out.png\"\n",
    "fh = open(filename, 'rb')\n",
    "\n",
    "first_eight = [137,80,78,71,13,10,26,10]\n",
    "valid_count = 0;\n",
    "i = 0\n",
    "chunksize = 1\n",
    "while (i < 8):\n",
    "    first_byte = fh.read(chunksize)\n",
    "    val = struct.unpack('B',first_byte)[0]\n",
    "    if first_eight[i] == val:\n",
    "        valid_count += 1\n",
    "    else:\n",
    "        print( \"ERROR: Invalid PNG signature\")\n",
    "        exit(-1)\n",
    "    i += 1;\n",
    "\n",
    "if valid_count == 8:\n",
    "    print( \"Valid PNG signature\")"
   ]
  },
  {
   "cell_type": "code",
   "execution_count": 2,
   "id": "86bdcc8e",
   "metadata": {},
   "outputs": [],
   "source": [
    "def messageToBinary(message):\n",
    "    if type(message) == str:\n",
    "        return ''.join([ format(ord(i), \"08b\") for i in message ])\n",
    "    elif type(message) == bytes or type(message) == np.ndarray:\n",
    "        return [ format(i, \"08b\") for i in message ]\n",
    "    elif type(message) == int or type(message) == np.uint8:\n",
    "        return format(message, \"08b\")\n",
    "    else:\n",
    "        raise TypeError(\"Input type not supported\")"
   ]
  },
  {
   "cell_type": "code",
   "execution_count": 3,
   "id": "97c60397",
   "metadata": {},
   "outputs": [],
   "source": [
    "def process_ihdr():\n",
    "    # The ! is necessary because PNGs being Portable \"NETWORK\" Graphics use\n",
    "    # network byte ordering (which is big-endian). \n",
    "    width = struct.unpack('!I', fh.read(4))[0]\n",
    "    print( \"width: \", width)\n",
    "    height = struct.unpack('!I', fh.read(4))[0]\n",
    "    print( \"height: \", height)\n",
    "    bit_depth = struct.unpack('B', fh.read(1))[0]\n",
    "    colour_type = struct.unpack('B', fh.read(1))[0]\n",
    "    compression_method = struct.unpack('B', fh.read(1))[0]\n",
    "    filter_method = struct.unpack('B', fh.read(1))[0]\n",
    "    interlace_method = struct.unpack('B', fh.read(1))[0]\n",
    "    print( \"bit_depth: \", bit_depth)\n",
    "    print( \"colour_type: \", colour_type)\n",
    "    print( \"compression_method: \", compression_method)\n",
    "    print (\"filter_method: \", filter_method)\n",
    "    print( \"interlace_method: \", interlace_method)\n",
    "    fh.read(4)"
   ]
  },
  {
   "cell_type": "code",
   "execution_count": 4,
   "id": "63e0bcb3",
   "metadata": {},
   "outputs": [],
   "source": [
    "def process_punk(chunk_length):\n",
    "    width = fh.read(chunk_length)\n",
    "    #width = messageToBinary(width)\n",
    "    width = width.decode('utf-8')\n",
    "    print(\"ok?: \", width)"
   ]
  },
  {
   "cell_type": "code",
   "execution_count": 5,
   "id": "11b7ed7e",
   "metadata": {},
   "outputs": [
    {
     "name": "stdout",
     "output_type": "stream",
     "text": [
      "====================\n",
      "chunk_length: 13\n",
      "chunk_type:  IHDR\n",
      "width:  512\n",
      "height:  512\n",
      "bit_depth:  8\n",
      "colour_type:  2\n",
      "compression_method:  0\n",
      "filter_method:  0\n",
      "interlace_method:  0\n",
      "====================\n",
      "chunk_length: 24\n",
      "chunk_type:  puNK\n",
      "ok?:  000100101011100001100100\n",
      "====================\n",
      "chunk_length: 1592857307\n",
      "chunk_type:  \u0000\u0000\u0000\u0000\n",
      "====================\n",
      "Found a total of 1 IDAT chunks consuming 632844 bytes.\n"
     ]
    }
   ],
   "source": [
    "idats_found = 0\n",
    "idats_bytes = 0\n",
    "while (True):\n",
    "    chlen = fh.read(4)\n",
    "    if (len(chlen) == 0):\n",
    "        break\n",
    "\n",
    "    chunk_length = struct.unpack('!I',chlen)[0]\n",
    "\n",
    "    chunk_type = \"\"\n",
    "    for i in range(4):\n",
    "        s=struct.unpack('c',fh.read(1))[0]\n",
    "        chunk_type += (s.decode('UTF-8'))\n",
    "    # Instead of printing the same report for each IDAT chunk, just\n",
    "    # print a summary at the end, to reduce flooding your console\n",
    "    if (chunk_type != \"IDAT\"):\n",
    "        print( \"=\" * 20)\n",
    "        print( \"chunk_length: \" + str(chunk_length)  )  \n",
    "        print( \"chunk_type: \", chunk_type)\n",
    "    else:\n",
    "        idats_found += 1\n",
    "        idats_bytes += chunk_length\n",
    "\n",
    "    if (chunk_type == \"IHDR\"):\n",
    "        process_ihdr()\n",
    "    elif(chunk_type == \"puNK\"):\n",
    "        process_punk(chunk_length)\n",
    "    else:\n",
    "        data = fh.read(chunk_length)\n",
    "        crc = fh.read(4)\n",
    "\n",
    "print( \"=\" * 20)\n",
    "print( \"Found a total of \" + str(idats_found) + \" IDAT chunks consuming \" + str(idats_bytes) + \" bytes.\")"
   ]
  },
  {
   "cell_type": "code",
   "execution_count": null,
   "id": "df47630a",
   "metadata": {},
   "outputs": [],
   "source": []
  }
 ],
 "metadata": {
  "kernelspec": {
   "display_name": "Python 3 (ipykernel)",
   "language": "python",
   "name": "python3"
  },
  "language_info": {
   "codemirror_mode": {
    "name": "ipython",
    "version": 3
   },
   "file_extension": ".py",
   "mimetype": "text/x-python",
   "name": "python",
   "nbconvert_exporter": "python",
   "pygments_lexer": "ipython3",
   "version": "3.10.2"
  }
 },
 "nbformat": 4,
 "nbformat_minor": 5
}
